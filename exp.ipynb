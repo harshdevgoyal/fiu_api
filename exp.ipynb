{
 "cells": [
  {
   "cell_type": "code",
   "execution_count": 2,
   "metadata": {},
   "outputs": [
    {
     "name": "stdout",
     "output_type": "stream",
     "text": [
      "b'{\"status\":\"success\",\"ver\":\"1.6.0\",\"data\":{\"status\":\"Pending\",\"consent_handle\":\"a39da91b-8f9b-4808-8bb7-206094e23036\"}}'\n"
     ]
    }
   ],
   "source": [
    "import requests\n",
    "\n",
    "url = \"https://sandbox.moneyone.in/finpro_sandbox/v2/requestconsent\"\n",
    "\n",
    "payload = \"{\\n  \\\"partyIdentifierType\\\": \\\"MOBILE\\\",\\n  \\\"partyIdentifierValue\\\": \\\"1999999999\\\",\\n  \\\"productID\\\": \\\"RE01\\\",\\n  \\\"accountID\\\": \\\"NAD1234\\\",\\n  \\\"vua\\\": \\\"1999999999@onemoney\\\"\\n}\"\n",
    "headers = {\n",
    "  'Content-Type': 'application/json',\n",
    "  'client_id': 'fp_test_99c6b457064afe2b3d1d64d8ba4552729dcfd5a8',\n",
    "  'client_secret': '1fc2fd75ceafcae2b2005cc7f31f1684344f9761f19a16e872cb75d28982ad5f70c7df56',\n",
    "  'organisationId': 'NAD0163',\n",
    "  'appIdentifier': 'https://www.example.com'\n",
    "}\n",
    "\n",
    "response = requests.request(\"POST\", url, headers=headers, data = payload)\n",
    "\n",
    "print(response.text.encode('utf8'))\n"
   ]
  },
  {
   "cell_type": "code",
   "execution_count": 22,
   "metadata": {},
   "outputs": [],
   "source": [
    "import requests\n",
    "\n",
    "url = \"https://sandbox.moneyone.in/finpro_sandbox/v2/getconsentslist\"\n",
    "\n",
    "payload = \"{\\n  \\\"partyIdentifierType\\\": \\\"MOBILE\\\",\\n  \\\"partyIdentifierValue\\\": \\\"1999999999\\\",\\n  \\\"productID\\\": \\\"RE01\\\",\\n  \\\"accountID\\\": \\\"NAD1234\\\"\\n}\"\n",
    "headers = {\n",
    "  'Content-Type': 'application/json',\n",
    "  'client_id': 'fp_test_99c6b457064afe2b3d1d64d8ba4552729dcfd5a8',\n",
    "  'client_secret': '1fc2fd75ceafcae2b2005cc7f31f1684344f9761f19a16e872cb75d28982ad5f70c7df56',\n",
    "  'organisationId': 'NAD0163',\n",
    "  'appIdentifier': 'https://www.example.com'\n",
    "}\n",
    "\n",
    "response = requests.request(\"POST\", url, headers=headers, data = payload)\n",
    "\n",
    "# type()\n"
   ]
  },
  {
   "cell_type": "code",
   "execution_count": 35,
   "metadata": {},
   "outputs": [],
   "source": [
    "# response.json()"
   ]
  },
  {
   "cell_type": "code",
   "execution_count": 12,
   "metadata": {},
   "outputs": [],
   "source": [
    "import firebase_admin\n",
    "from firebase_admin import credentials\n",
    "from firebase_admin import firestore\n",
    "\n",
    "# Use a service account\n",
    "cred = credentials.Certificate('./aa-fiu-firebase-adminsdk-81i5j-428e2a19e9.json')\n",
    "firebase_admin.initialize_app(cred)\n",
    "\n",
    "db = firestore.client()"
   ]
  },
  {
   "cell_type": "code",
   "execution_count": 27,
   "metadata": {},
   "outputs": [
    {
     "data": {
      "text/plain": [
       "update_time {\n",
       "  seconds: 1595239684\n",
       "  nanos: 59260000\n",
       "}"
      ]
     },
     "execution_count": 27,
     "metadata": {},
     "output_type": "execute_result"
    }
   ],
   "source": [
    "consents = {'consentTypeID' : 'consentType1', 'status': 'pending'}\n",
    "db.collection('customers').document('customer1').update({'consents':response.json()['data']})"
   ]
  },
  {
   "cell_type": "code",
   "execution_count": 40,
   "metadata": {},
   "outputs": [],
   "source": [
    "res = db.collection('customers').document('1999999999').set({'consents':'d'})"
   ]
  },
  {
   "cell_type": "code",
   "execution_count": 50,
   "metadata": {},
   "outputs": [
    {
     "data": {
      "text/plain": [
       "google.cloud.firestore_v1.collection.CollectionReference"
      ]
     },
     "execution_count": 50,
     "metadata": {},
     "output_type": "execute_result"
    }
   ],
   "source": [
    "type(db.collection('customers'))"
   ]
  }
 ],
 "metadata": {
  "kernelspec": {
   "display_name": "Python 3",
   "language": "python",
   "name": "python3"
  },
  "language_info": {
   "codemirror_mode": {
    "name": "ipython",
    "version": 3
   },
   "file_extension": ".py",
   "mimetype": "text/x-python",
   "name": "python",
   "nbconvert_exporter": "python",
   "pygments_lexer": "ipython3",
   "version": "3.8.3"
  }
 },
 "nbformat": 4,
 "nbformat_minor": 4
}
